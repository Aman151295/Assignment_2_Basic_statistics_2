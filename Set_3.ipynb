{
  "nbformat": 4,
  "nbformat_minor": 0,
  "metadata": {
    "colab": {
      "name": "Set_3.ipynb",
      "provenance": [],
      "authorship_tag": "ABX9TyPMEjPabhcsn7VFANBXnZ8M",
      "include_colab_link": true
    },
    "kernelspec": {
      "name": "python3",
      "display_name": "Python 3"
    },
    "language_info": {
      "name": "python"
    }
  },
  "cells": [
    {
      "cell_type": "markdown",
      "metadata": {
        "id": "view-in-github",
        "colab_type": "text"
      },
      "source": [
        "<a href=\"https://colab.research.google.com/github/Aman151295/Assignment_2_Basic_statistics_2/blob/main/Set_3.ipynb\" target=\"_parent\"><img src=\"https://colab.research.google.com/assets/colab-badge.svg\" alt=\"Open In Colab\"/></a>"
      ]
    },
    {
      "cell_type": "markdown",
      "source": [
        "**SET_3** BASIC STATISTICS_LEVEL_2"
      ],
      "metadata": {
        "id": "RYZ4OJWCOBgj"
      }
    },
    {
      "cell_type": "markdown",
      "source": [
        "**Q 8**\n",
        "To prepare a report on the economy, analysts need to estimate the percentage of businesses that plan to hire additional employees in the next 60 days\n",
        "\n",
        "\n",
        "How many randomly selected employers (minimum number) must we contact in order to guarantee a margin of error of no more than 4% (at 95% confidence)?\n",
        "\n",
        "A.\t600\n",
        "B.\t400\n",
        "C.\t550\n",
        "D.\t1000"
      ],
      "metadata": {
        "id": "UAHlpcydNIKJ"
      }
    },
    {
      "cell_type": "code",
      "source": [
        "import numpy as np\n",
        "from scipy import stats\n",
        "from scipy.stats import norm\n",
        "\n",
        "#  M.E = Z(alpha/2) * square root ((p*q)/n)\n",
        "P = 0.5\n",
        "Q = 1 - P \n",
        "𝑀𝐸 = 0.04\n",
        "# C.I = 95%\n",
        "# alpha = 100-C.I = 100 - 95 = 5% => alpha/2 = 0.025\n",
        "\n",
        "\n",
        "Z_Value = stats.norm.ppf(0.025)\n",
        "print(' Z value:' ,Z_Value)\n",
        "\n",
        "# Random Employees no =  (Z_Value ** 2) * P * Q)/ (M.E)^2\n",
        "\n",
        "Randm_emp_no =  (Z_Value ** 2) *  P * Q/ ME ** 2\n",
        "print('Randm_emp_no : ', Randm_emp_no)"
      ],
      "metadata": {
        "colab": {
          "base_uri": "https://localhost:8080/"
        },
        "id": "sp-JLCHiNNpR",
        "outputId": "dfd5dfda-1e38-474c-a0aa-e387b7d2144b"
      },
      "execution_count": 1,
      "outputs": [
        {
          "output_type": "stream",
          "name": "stdout",
          "text": [
            " Z value: -1.9599639845400545\n",
            "Randm_emp_no :  600.2279407334573\n"
          ]
        }
      ]
    },
    {
      "cell_type": "markdown",
      "source": [
        "SOLUTION: **A)** From above observation we can conclude that minm **600** around emplyoees they need."
      ],
      "metadata": {
        "id": "-_JB-ug2NZiC"
      }
    },
    {
      "cell_type": "markdown",
      "source": [
        "**9)** \tSuppose we want the above margin of error to be based on a 98% confidence level. What sample size (minimum) must we now use?"
      ],
      "metadata": {
        "id": "Ji6IxH_CNejS"
      }
    },
    {
      "cell_type": "code",
      "source": [
        "# C.I = 98%\n",
        "# alpha = 100-C.I = 100 - 98 = 2% => alpha/2 = 0.02/2 = 0.01\n",
        "\n",
        "Z_Value = stats.norm.ppf(0.01)\n",
        "print(' Z value:' ,Z_Value)\n",
        "\n",
        "# Random Employees no =  (Z_Value ** 2) * P * Q)/ (M.E)^2\n",
        "\n",
        "Randm_emp_no =  (Z_Value ** 2) *  P * Q/ ME ** 2\n",
        "print('Randm_emp_no : ', Randm_emp_no)\n"
      ],
      "metadata": {
        "colab": {
          "base_uri": "https://localhost:8080/"
        },
        "id": "6_kW6duCNj_i",
        "outputId": "e9ba5354-eaf8-41e9-b8b8-de4b6b187fc7"
      },
      "execution_count": 2,
      "outputs": [
        {
          "output_type": "stream",
          "name": "stdout",
          "text": [
            " Z value: -2.3263478740408408\n",
            "Randm_emp_no :  845.6085048522405\n"
          ]
        }
      ]
    },
    {
      "cell_type": "markdown",
      "source": [
        "SOLUTION : **c) ** From above observation we can conclude that minm **845** \n",
        "around emplyoees they need."
      ],
      "metadata": {
        "id": "u6K9gVYwNpta"
      }
    }
  ]
}