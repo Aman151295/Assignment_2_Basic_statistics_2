{
  "nbformat": 4,
  "nbformat_minor": 0,
  "metadata": {
    "colab": {
      "name": "SET_4.ipynb",
      "provenance": [],
      "authorship_tag": "ABX9TyNoGkCAf307Dpc7qqfuTU5g",
      "include_colab_link": true
    },
    "kernelspec": {
      "name": "python3",
      "display_name": "Python 3"
    },
    "language_info": {
      "name": "python"
    }
  },
  "cells": [
    {
      "cell_type": "markdown",
      "metadata": {
        "id": "view-in-github",
        "colab_type": "text"
      },
      "source": [
        "<a href=\"https://colab.research.google.com/github/Aman151295/Assignment_2_Basic_statistics_2/blob/main/SET_4.ipynb\" target=\"_parent\"><img src=\"https://colab.research.google.com/assets/colab-badge.svg\" alt=\"Open In Colab\"/></a>"
      ]
    },
    {
      "cell_type": "markdown",
      "source": [
        " **SET_4** BASIC STATISTICS _LEVEL_\n",
        "\n"
      ],
      "metadata": {
        "id": "7sCyXaEMvkZz"
      }
    },
    {
      "cell_type": "markdown",
      "source": [
        "3.\tAuditors at a small community bank randomly sample 100 withdrawal transactions made during the week at an ATM machine located near the bank’s main branch. Over the past 2 years, the average withdrawal amount has been 50 with a standard deviation of 40. Since audit investigations are typically expensive, the auditors decide to not initiate further investigations if the mean transaction amount of the sample is between 45 and 55. What is the probability that in any given week, there will be an investigation?\n",
        "\n",
        "A.\t1.25%\n",
        "\n",
        "B.\t2.5%\n",
        "\n",
        "C.\t10.55%\n",
        "\n",
        "D.\t21.1%\n",
        "\n",
        "E.\t50%"
      ],
      "metadata": {
        "id": "ChAMsezG_rrW"
      }
    },
    {
      "cell_type": "code",
      "source": [
        "import numpy as np\n",
        "from scipy import stats\n",
        "from scipy.stats import norm\n",
        "\n",
        "\n",
        "\n",
        "# Sapmling Distribution\n",
        "# Mean( mu)  = 50\n",
        "# S.E = S.D/sqrt(n) = 40/Sqrt(100)\n",
        "# S.E = 4\n",
        "\n",
        "# for investigation to be done in upcoming week, first we need to find probablity of Investigation not to be done, P (45< X < 55) then 1 - P (45< X < 55) will give us the probablity of investigation.\n",
        "\n",
        "\n",
        "\n",
        "prob_Not_Inv = stats.norm.cdf(55,50,4)-stats.norm.cdf(45,50,4)\n",
        "print('probablity of Investigation not to be done:', \n",
        "prob_Not_Inv)\n",
        "\n",
        "#Subtracting 1 from that value gives 1-0.7887 = 0.2113 which converts to 21.13%\n",
        "\n",
        "Prob_Inv = 1 - prob_Not_Inv \n",
        "print('probablity of Investigation to be done: ', Prob_Inv * 100 )"
      ],
      "metadata": {
        "colab": {
          "base_uri": "https://localhost:8080/"
        },
        "id": "1AKG_dTzvm_a",
        "outputId": "10553051-f477-4412-d743-93623287cdc0"
      },
      "execution_count": 5,
      "outputs": [
        {
          "output_type": "stream",
          "name": "stdout",
          "text": [
            "probablity of Investigation not to be done: 0.7887004526662893\n",
            "probablity of Investigation to be done:  21.129954733371072\n"
          ]
        }
      ]
    },
    {
      "cell_type": "markdown",
      "source": [
        "**Solution**: D\n",
        "\n",
        "As per the above analysis, found the probablity is 21%"
      ],
      "metadata": {
        "id": "iwnK3E362bSE"
      }
    },
    {
      "cell_type": "markdown",
      "source": [
        "4.\tThe auditors from the above example would like to maintain the probability of investigation to 5%. Which of the following represents the minimum number transactions that they should sample if they do not want to change the thresholds of 45 and 55? Assume that the sample statistics remain unchanged.\n",
        "\n",
        "A.\t144\n",
        "\n",
        "B.\t150\n",
        "\n",
        "C.\t196\n",
        "\n",
        "D.\t250\n",
        "\n",
        "E.\tNot enough information"
      ],
      "metadata": {
        "id": "XW0edLLc2u3a"
      }
    },
    {
      "cell_type": "markdown",
      "source": [
        " As they want to maintain the probablity of Investigation not to be done is 95%, so the Z value is +- 1.96\n",
        "\n",
        " X bar = sample mean = 45 & 55\n",
        " Mean = mu = 50\n",
        "\n",
        " Z = (x bar - mu)/ S.D/Sqrt(n)\n",
        "\n",
        " \n",
        " Sample Size = (S.D * Z / Sample mean - population mean) ** 2\n",
        "\n",
        "\n",
        "\n"
      ],
      "metadata": {
        "id": "c5pfIY8N2zeS"
      }
    },
    {
      "cell_type": "code",
      "source": [
        "Sample_Size = ((40 * 1.96)/(45 - 50)) ** 2\n",
        "print('Minimum no of Sample = ', Sample_Size)"
      ],
      "metadata": {
        "colab": {
          "base_uri": "https://localhost:8080/"
        },
        "id": "suE_opBD8WTz",
        "outputId": "876b5390-6f18-47ee-b228-32236982df9a"
      },
      "execution_count": 10,
      "outputs": [
        {
          "output_type": "stream",
          "name": "stdout",
          "text": [
            "Minimum no of Sample =  245.86240000000004\n"
          ]
        }
      ]
    },
    {
      "cell_type": "markdown",
      "source": [
        "**solution**: D , As per above analysis we can conclude the minimum no of sample should be around 250 to maintain the probablity of investigatiob to 5 %"
      ],
      "metadata": {
        "id": "Js0ZyKhP-G3c"
      }
    },
    {
      "cell_type": "code",
      "source": [
        ""
      ],
      "metadata": {
        "id": "gLvzsIrf8UT8"
      },
      "execution_count": null,
      "outputs": []
    }
  ]
}