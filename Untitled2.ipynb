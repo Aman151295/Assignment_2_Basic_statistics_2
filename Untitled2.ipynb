{
  "nbformat": 4,
  "nbformat_minor": 0,
  "metadata": {
    "colab": {
      "name": "Untitled2.ipynb",
      "provenance": [],
      "authorship_tag": "ABX9TyPmGHdTwsGD3VO9RL7edHRS",
      "include_colab_link": true
    },
    "kernelspec": {
      "name": "python3",
      "display_name": "Python 3"
    },
    "language_info": {
      "name": "python"
    }
  },
  "cells": [
    {
      "cell_type": "markdown",
      "metadata": {
        "id": "view-in-github",
        "colab_type": "text"
      },
      "source": [
        "<a href=\"https://colab.research.google.com/github/Aman151295/Assignment_2_Basic_statistics_2/blob/main/Untitled2.ipynb\" target=\"_parent\"><img src=\"https://colab.research.google.com/assets/colab-badge.svg\" alt=\"Open In Colab\"/></a>"
      ]
    },
    {
      "cell_type": "markdown",
      "source": [
        "**SET_2** BASIC STATISTICS_LEVEL_2\n",
        "\n",
        " **Topics**: Confidence Intervals\n"
      ],
      "metadata": {
        "id": "JXQSjWtPVW1J"
      }
    },
    {
      "cell_type": "markdown",
      "source": [
        "1.\tThe time required for servicing transmissions is normally distributed with  = 45 minutes and  = 8 minutes. The service manager plans to have work begin on the transmission of a customer’s car 10 minutes after the car is dropped off and the customer is told that the car will be ready within 1 hour from drop-off. What is the probability that the service manager cannot meet his commitment? \n",
        "\n",
        "A.\t0.3875   \n",
        "B.\t0.2676   \n",
        "C.\t0.5   \n",
        "D.\t0.6987 "
      ],
      "metadata": {
        "id": "BnV-POrdAiiV"
      }
    },
    {
      "cell_type": "code",
      "source": [
        "from scipy import stats\n",
        "from scipy.stats import norm \n",
        "\n",
        "Probality = stats.norm.cdf(50,45,8)\n",
        "print ('Probality:' , Probality)\n",
        "prob_cnt_meet_cmtmnt = 1 - Probality\n",
        "print('probability that the service manager cannot meet his commitment :', prob_cnt_meet_cmtmnt)"
      ],
      "metadata": {
        "colab": {
          "base_uri": "https://localhost:8080/"
        },
        "id": "fjpG2aZAVYMd",
        "outputId": "2bdd01b0-c41c-4fd9-90ba-f7c95421b0fa"
      },
      "execution_count": 3,
      "outputs": [
        {
          "output_type": "stream",
          "name": "stdout",
          "text": [
            "Probality: 0.7340144709512995\n",
            "probability that the service manager cannot meet his commitment : 0.26598552904870054\n"
          ]
        }
      ]
    },
    {
      "cell_type": "markdown",
      "source": [
        "Answer : B 0.2676"
      ],
      "metadata": {
        "id": "ZhtuH9qMVgmd"
      }
    },
    {
      "cell_type": "markdown",
      "source": [
        "2.\tThe current age (in years) of 400 clerical employees at an insurance claims processing center is normally distributed with mean  = 38 and Standard deviation  =6. For each statement below, please specify True/False. If false, briefly explain why.\n",
        "\n",
        "A.\tMore employees at the processing center are older than 44 than between 38 and 44.\n",
        "\n",
        "B.\tA training program for employees under the age of 30 at the center would be expected to attract about 36 employees.\n"
      ],
      "metadata": {
        "id": "o6QCINk3ckb-"
      }
    },
    {
      "cell_type": "code",
      "source": [
        "#A. More employees at the processing center are older than 44 than between 38 and 44.\n",
        "\n",
        "#probablity of employees at the processing center are older than 44 \n",
        "\n",
        "Probablity_44 = stats.norm.cdf(44,38,6)\n",
        "\n",
        "print ('Probality older than 44 :' , 1 - Probablity_44)\n",
        "\n",
        "\n",
        "#probablity of employees at the processing center are older than 44 \n",
        "\n",
        "Probablity_38_btn_44 = stats.norm.cdf(44,38,6) - stats.norm.cdf(38,38,6)\n",
        "\n",
        "print ('Probality between 38 &  44 :' , 1 - Probablity_38_btn_44)\n",
        "\n",
        "\n",
        "#B. A training program for employees under the age of 30 at the center would be expected to attract about 36 employees.\n",
        "Probablity_30 = stats.norm.cdf(30,38,6)\n",
        "print ('Probality under the age of 30 :' , Probablity_30)\n",
        "No_of_employees  = 0.09 * 400\n",
        "print ('Employees under the age of 30 at the center would be expected to attract about {0}  '.format(No_of_employees))\n"
      ],
      "metadata": {
        "colab": {
          "base_uri": "https://localhost:8080/"
        },
        "id": "FKnI6NGYZtTA",
        "outputId": "cb1fa54e-564f-4795-dff9-42dad63c7a5a"
      },
      "execution_count": 17,
      "outputs": [
        {
          "output_type": "stream",
          "name": "stdout",
          "text": [
            "Probality older than 44 : 0.15865525393145707\n",
            "Probality between 38 &  44 : 0.6586552539314571\n",
            "Probality under the age of 30 : 0.09121121972586788\n",
            "Employees under the age of 30 at the center would be expected to attract about 36.0  \n"
          ]
        }
      ]
    },
    {
      "cell_type": "markdown",
      "source": [
        "From above results we can conclude that\n",
        "**Statement A is False**,\tMore employees at the processing center are between 38 and 44 than Older than 44.\n",
        "\n",
        "**Statement B is true** Employees under the age of 30 at the center would be expected to attract about **36.0**"
      ],
      "metadata": {
        "id": "-vbxd6ZOcLo4"
      }
    },
    {
      "cell_type": "markdown",
      "source": [
        "4.\tLet X ~ N(100, 202). Find two values, a and b, symmetric about the mean, such that the probability of the random variable taking a value between them is 0.99. \n",
        "\n",
        "A.\t90.5, 105.9 \n",
        "\n",
        "B.\t80.2, 119.8 \n",
        "\n",
        "C.\t22, 78 \n",
        "\n",
        "D.\t48.5, 151.5 \n",
        "\n",
        "E.\t90.1, 109.9\n"
      ],
      "metadata": {
        "id": "zfuKLpHpV4gF"
      }
    },
    {
      "cell_type": "code",
      "source": [
        "# Mean = 100\n",
        "#S.D = 20\n",
        "\n",
        "# Symmetric values for the standard normal distribution such that the area\n",
        "# enclosed is .99. Here, the idea is to recognize that the excluded area is .005 in each\n",
        "# of the left and right tails. Thus, we want to find the 0.5th and the 99.5th percentiles.\n",
        "\n",
        "# In the above statement 0.99 is the Confidence interval for mean 100 & S.D = 20\n",
        "from scipy import stats\n",
        "from scipy.stats import norm \n",
        "import scipy.stats as st\n",
        "\n",
        "\n",
        "\n",
        "Conf_Int_99 = st.norm.interval(0.99,100,20)\n",
        "print('99% confidence interval =', Conf_Int_99)"
      ],
      "metadata": {
        "colab": {
          "base_uri": "https://localhost:8080/"
        },
        "id": "zwhrDvlnV_rz",
        "outputId": "12ec62fa-92bd-4206-b668-992224bdec78"
      },
      "execution_count": 8,
      "outputs": [
        {
          "output_type": "stream",
          "name": "stdout",
          "text": [
            "99% confidence interval = (48.48341392902199, 151.516586070978)\n"
          ]
        }
      ]
    },
    {
      "cell_type": "markdown",
      "source": [
        "**Answer :** D. 48.5, 151.5"
      ],
      "metadata": {
        "id": "f9fPTi6cfSsm"
      }
    },
    {
      "cell_type": "code",
      "source": [
        ""
      ],
      "metadata": {
        "id": "2zyZ9doSgkKt"
      },
      "execution_count": null,
      "outputs": []
    },
    {
      "cell_type": "markdown",
      "source": [
        "**5.**\tConsider a company that has two different divisions. The annual profits from the two divisions are independent and have distributions Profit1 ~ N(5, 32) and Profit2 ~ N(7, 42) respectively. Both the profits are in million. \n",
        "Answer the following questions about the total profit of the company in Rupees. Assume that $1 = Rs. 45\n",
        "\n",
        "A.\tSpecify a Rupee range (centered on the mean) such that it contains 95% probability for the annual profit of the company.\n",
        "\n",
        "B.\tSpecify the 5th percentile of profit (in Rupees) for the company\n",
        "\n",
        "C.\tWhich of the two divisions has a larger probability of making a loss in a given year?\n"
      ],
      "metadata": {
        "id": "0Qwz1iQpgNab"
      }
    },
    {
      "cell_type": "markdown",
      "source": [
        "**A.\tSpecify a Rupee range (centered on the mean) such that it contains 95% probability for the annual profit of the company.**"
      ],
      "metadata": {
        "id": "-ZmqrnTIkovf"
      }
    },
    {
      "cell_type": "code",
      "source": [
        "# profit 1 has Mean = 5 & S.D = 3\n",
        "# profit 2 has Mean = 7 & S.D = 4\n",
        "\n",
        "# For finding Rupee range 95% probability for the annual profit of the company, need to find the control interval for 95.\n",
        "\n",
        "P1 = st.norm.interval(0.95,5,3)\n",
        "P1_Rupee = np.array(P1) * 45\n",
        "\n",
        "print('Rupee Range for profit 1 in Indian Rupees :' , P1_Rupee)\n",
        "\n",
        "\n",
        "P2 = st.norm.interval(0.95,7,4)\n",
        "P2_Rupee = np.array(P2) * 45\n",
        "\n",
        "print('Rupee Range for profit 2 in Indian Rupees :' , P2_Rupee)"
      ],
      "metadata": {
        "colab": {
          "base_uri": "https://localhost:8080/"
        },
        "id": "sZt0i46zgl2U",
        "outputId": "b9c501d3-afdc-41b6-9d4b-61a5c2708959"
      },
      "execution_count": 19,
      "outputs": [
        {
          "output_type": "stream",
          "name": "stdout",
          "text": [
            "Rupee Range for profit 1 in Indian Rupees : [-39.59513791 489.59513791]\n",
            "Rupee Range for profit 2 in Indian Rupees : [-37.79351722 667.79351722]\n"
          ]
        }
      ]
    },
    {
      "cell_type": "markdown",
      "source": [
        "**B. Specify the 5th percentile of profit (in Rupees) for the company**"
      ],
      "metadata": {
        "id": "2Jl31Pd2krzd"
      }
    },
    {
      "cell_type": "code",
      "source": [
        "# For 5th percentile of profit for the company, we can find 90% control interval. So that it will give us min range of 5 percntile & max range of 95 percentile, as we have 10% area excluded in  in each\n",
        "# of the left and right tails.\n",
        "\n",
        "P1_5 = st.norm.interval(0.90,5,3)\n",
        "P1_Rupee = np.array(P1_5) * 45\n",
        "print('5th percentile of profit1 (in Rupees) :' , P1_Rupee)\n",
        "\n",
        "P2_5 = st.norm.interval(0.90,7,4)\n",
        "P2_Rupee = np.array(P2_5) * 45\n",
        "print('5th percentile of profit2 (in Rupees) :' , P2_Rupee)"
      ],
      "metadata": {
        "colab": {
          "base_uri": "https://localhost:8080/"
        },
        "id": "377Gkec7kvM0",
        "outputId": "2018694e-2487-45ed-8da8-e2ca606b2437"
      },
      "execution_count": 23,
      "outputs": [
        {
          "output_type": "stream",
          "name": "stdout",
          "text": [
            "5th percentile of profit1 (in Rupees) : [  2.94476036 447.05523964]\n",
            "5th percentile of profit2 (in Rupees) : [ 18.92634715 611.07365285]\n"
          ]
        }
      ]
    },
    {
      "cell_type": "markdown",
      "source": [
        "As from Above results, we can see that Lower limit, which is 5 percentile for both of the profits are as below\n",
        "\n",
        "\n",
        "**5th percentile of profit1 (in Rupees)** :  2.94476036 \n",
        "**5th percentile of profit2 (in Rupees) :**  18.92634715 "
      ],
      "metadata": {
        "id": "vmGhme_xm0f-"
      }
    },
    {
      "cell_type": "markdown",
      "source": [
        "**C.\tWhich of the two divisions has a larger probability of making a loss in a given year?**"
      ],
      "metadata": {
        "id": "pXTIkQnGngOH"
      }
    },
    {
      "cell_type": "markdown",
      "source": [
        "**Solution:** Profit 1 has comparatively high rate of making a loss"
      ],
      "metadata": {
        "id": "ZZuPGBqgnjPF"
      }
    },
    {
      "cell_type": "code",
      "source": [
        "import numpy as np\n",
        "from scipy import stats\n",
        "from scipy.stats import norm\n",
        "# Apply One-Sample One-Tail z-test\n",
        "z_scores=(0.046-0.05)/(np.sqrt((0.05*(1-0.05))/2000))\n",
        "print('z_scores:', z_scores)\n",
        "\n",
        "# Find Probability assuming null hyposthesis, so as to compare with Type-1 error α = 0.05\n",
        "\n",
        "p_Value = stats.norm.sf(abs(z_scores))\n",
        "print(' P value:' ,p_Value)\n"
      ],
      "metadata": {
        "colab": {
          "base_uri": "https://localhost:8080/"
        },
        "id": "k6PDbMmCXCaA",
        "outputId": "79610455-9547-4f8d-a393-7b2c12770b87"
      },
      "execution_count": 3,
      "outputs": [
        {
          "output_type": "stream",
          "name": "stdout",
          "text": [
            "z_scores: -0.820782681668124\n",
            " P value: 0.20588503245107104\n"
          ]
        }
      ]
    },
    {
      "cell_type": "markdown",
      "source": [
        "**I)**here we can observe that P value > α = 0.05, we can't reject the null hypothesis.\n",
        "\n",
        "So we can conclude that the Mozilla has equal to 5%  or more than 5 % share of the market.\n",
        "\n",
        "\n",
        "**(II)** Now it is claimed by WebSideStory that their sample contains all the internet users using daily. Thus it means  4.6 percent share of market shows the entire population.\n",
        "\n",
        "So, we conclude that the Mozilla has a share in the ,market of less than 5 percent."
      ],
      "metadata": {
        "id": "fFI4sNZhb3Zw"
      }
    },
    {
      "cell_type": "markdown",
      "source": [
        "**8.**\t\n",
        "\n",
        "\n"
      ],
      "metadata": {
        "id": "mNNka1nwUIHy"
      }
    },
    {
      "cell_type": "code",
      "source": [
        "import numpy as np\n",
        "from scipy import stats\n",
        "from scipy.stats import norm\n",
        "\n",
        "#  M.E = Z(alpha/2) * square root ((p*q)/n)\n",
        "P = 0.5\n",
        "Q = 1 - P \n",
        "𝑀𝐸 = 0.04\n",
        "# C.I = 95%\n",
        "# alpha = 100-C.I = 100 - 95 = 5% => alpha/2 = 0.025\n",
        "\n",
        "\n",
        "Z_Value = stats.norm.ppf(0.025)\n",
        "print(' Z value:' ,Z_Value)\n",
        "\n",
        "# Random Employees no =  (Z_Value ** 2) * P * Q)/ (M.E)^2\n",
        "\n",
        "Randm_emp_no =  (Z_Value ** 2) *  P * Q/ ME ** 2\n",
        "print('Randm_emp_no : ', Randm_emp_no)\n"
      ],
      "metadata": {
        "colab": {
          "base_uri": "https://localhost:8080/"
        },
        "id": "-dQELA2BZbMX",
        "outputId": "e72f0d43-354a-405a-a675-bae5e1ed30c6"
      },
      "execution_count": 37,
      "outputs": [
        {
          "output_type": "stream",
          "name": "stdout",
          "text": [
            " Z value: -1.9599639845400545\n",
            "Randm_emp_no :  600.2279407334573\n"
          ]
        }
      ]
    },
    {
      "cell_type": "markdown",
      "source": [
        "**A)** From above observation we can conclude that minm **600** around emplyoees they need."
      ],
      "metadata": {
        "id": "5QMmcysAYFa5"
      }
    },
    {
      "cell_type": "markdown",
      "source": [
        ""
      ],
      "metadata": {
        "id": "KkBrRw_4YmuA"
      }
    },
    {
      "cell_type": "code",
      "source": [
        ""
      ],
      "metadata": {
        "colab": {
          "base_uri": "https://localhost:8080/"
        },
        "id": "gyhDIK28ZYVR",
        "outputId": "a77f01a5-692c-4087-ceb2-7b6e2a955c43"
      },
      "execution_count": 38,
      "outputs": [
        {
          "output_type": "stream",
          "name": "stdout",
          "text": [
            " Z value: -2.3263478740408408\n",
            "Randm_emp_no :  845.6085048522405\n"
          ]
        }
      ]
    },
    {
      "cell_type": "markdown",
      "source": [
        ""
      ],
      "metadata": {
        "id": "uA7P4p2ZaDBI"
      }
    }
  ]
}